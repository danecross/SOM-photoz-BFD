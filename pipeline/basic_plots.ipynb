{
 "cells": [
  {
   "cell_type": "code",
   "execution_count": 1,
   "id": "bb6459f4-13fb-4004-8acc-9bae4700f0d8",
   "metadata": {
    "tags": []
   },
   "outputs": [],
   "source": [
    "from SOM import *\n",
    "from PZC import *\n",
    "from TomographicBins import *\n",
    "from pipeline_tools import *\n",
    "\n",
    "from matplotlib import pyplot as plt\n",
    "from mpl_toolkits.axes_grid1 import make_axes_locatable\n"
   ]
  },
  {
   "cell_type": "code",
   "execution_count": 2,
   "id": "be33a84d-95e9-4973-9c43-9124a72bf464",
   "metadata": {},
   "outputs": [],
   "source": [
    "pz = load_PZC('../outputs/basic/')\n",
    "\n",
    "wide_SOM = pz.wide_SOM\n",
    "deep_SOM = pz.deep_SOM"
   ]
  },
  {
   "cell_type": "markdown",
   "id": "67121566-9fec-40a1-aa5e-93fbe831c61f",
   "metadata": {
    "tags": []
   },
   "source": [
    "## Catalog Checking"
   ]
  },
  {
   "cell_type": "markdown",
   "id": "c06be9e9-f0f3-4474-945a-0da915746c6c",
   "metadata": {
    "tags": []
   },
   "source": [
    "### Wide Sample"
   ]
  },
  {
   "cell_type": "code",
   "execution_count": null,
   "id": "23f5fc65-f49c-4307-9950-d8fb4791fd74",
   "metadata": {
    "tags": []
   },
   "outputs": [],
   "source": [
    "wide_som_sample = wide_SOM.validate_sample ; bands = ['g','r','i','z']\n",
    "# range=(-1000000,-10), \n",
    "[plt.hist(wide_som_sample['Mf_%s'%b], 300, histtype='step', label=b) for b in bands]\n",
    "plt.legend()\n",
    "plt.yscale('log') ; plt.xscale('symlog')\n",
    "#plt.xlim(-1000000,0)\n",
    "plt.show()"
   ]
  },
  {
   "cell_type": "markdown",
   "id": "8261b5ee-20ff-4a3c-96a9-2e83ec65ec2a",
   "metadata": {
    "tags": []
   },
   "source": [
    "### Deep Sample"
   ]
  },
  {
   "cell_type": "code",
   "execution_count": null,
   "id": "b3b4ccb2-1404-4f7f-8ea5-6915dc1ef6a1",
   "metadata": {
    "tags": []
   },
   "outputs": [],
   "source": [
    "deep_som_sample = deep_SOM.validate_sample ; bands = list('ugrizjhk')\n",
    "# \n",
    "[plt.hist(deep_som_sample['Mf_%s'%b], 300, range=(0, 1000), histtype='step', label=b) for b in bands]\n",
    "plt.legend()\n",
    "#plt.yscale('log') #; plt.xscale('symlog')\n",
    "#plt.xlim(-1000000,0)\n",
    "plt.show()"
   ]
  },
  {
   "cell_type": "code",
   "execution_count": null,
   "id": "dd10cd15-be37-4848-9eb0-008a5900ff41",
   "metadata": {
    "tags": []
   },
   "outputs": [],
   "source": [
    "plt.hist(deep_som_sample['COSMOS_PHOTZ'], 300, histtype='step')\n",
    "print(wide_som_sample.colnames)\n",
    "plt.hist(wide_som_sample['DNF_Z_MC'], 300, histtype='step')\n",
    "plt.show()"
   ]
  },
  {
   "cell_type": "markdown",
   "id": "9afa8ec3-ab47-4ee3-a84c-cdc24b3a8dc8",
   "metadata": {
    "tags": []
   },
   "source": [
    "# SOM Validation"
   ]
  },
  {
   "cell_type": "markdown",
   "id": "bf1034b1-904b-438b-af26-6ff9b815123f",
   "metadata": {
    "jp-MarkdownHeadingCollapsed": true,
    "tags": []
   },
   "source": [
    "## Wide SOM"
   ]
  },
  {
   "cell_type": "code",
   "execution_count": null,
   "id": "6c5dd4b8-b446-47e9-abfd-98bd12e0a155",
   "metadata": {
    "tags": []
   },
   "outputs": [],
   "source": [
    "occ = wide_SOM.get('occupation')\n",
    "\n",
    "plt.imshow(occ)\n",
    "plt.colorbar()\n",
    "plt.title(\"Wide Occupation\")\n",
    "\n",
    "plt.show()"
   ]
  },
  {
   "cell_type": "code",
   "execution_count": null,
   "id": "ac7d242f-2b34-435d-a3e3-fd0922cfd525",
   "metadata": {
    "tags": []
   },
   "outputs": [],
   "source": [
    "bands = ['g','r','i','z']\n",
    "means = [wide_SOM.get('mean','Mf_%s'%b) for b in bands]\n",
    "stds = [wide_SOM.get('std','Mf_%s'%b) for b in bands]\n",
    "\n",
    "means_mag = [flux_to_mag(m) for m in means]\n",
    "stds_mag = [flux_to_mag(s) for s in stds]"
   ]
  },
  {
   "cell_type": "code",
   "execution_count": null,
   "id": "599d7244-9675-49f6-8905-02ab4f31ba64",
   "metadata": {
    "tags": []
   },
   "outputs": [],
   "source": [
    "fig, ax = plt.subplots(2,3, figsize=(20,10))\n",
    "for i, (b1, b2) in enumerate(zip(bands, bands[1:])):\n",
    "    im1=ax[0,i].imshow(means_mag[i]-means_mag[i+1])\n",
    "    ax[1,i].imshow(stds_mag[i]-stds_mag[i+1])\n",
    "    \n",
    "    divider = make_axes_locatable(ax[0,i])\n",
    "    cax = divider.append_axes('right', size='5%', pad=0.05)\n",
    "    fig.colorbar(im1, cax=cax, orientation='vertical')\n",
    "    \n",
    "    ax[0,i].set_title('%s-%s'%(b1,b2))\n",
    "    \n",
    "plt.show()"
   ]
  },
  {
   "cell_type": "markdown",
   "id": "f4b18a95-5c7c-4223-ab14-5c84d236f89d",
   "metadata": {
    "jp-MarkdownHeadingCollapsed": true,
    "tags": []
   },
   "source": [
    "## Deep SOM"
   ]
  },
  {
   "cell_type": "code",
   "execution_count": null,
   "id": "3f318e3f-aefc-46fd-ab53-d8aedb676534",
   "metadata": {
    "tags": []
   },
   "outputs": [],
   "source": [
    "occ = deep_SOM.get('occupation')\n",
    "\n",
    "plt.imshow(occ)\n",
    "plt.colorbar()\n",
    "plt.title(\"Deep Occupation\")\n",
    "\n",
    "plt.show()"
   ]
  },
  {
   "cell_type": "code",
   "execution_count": null,
   "id": "0417453e-05fd-45c5-80e3-1e0f484cec81",
   "metadata": {
    "tags": []
   },
   "outputs": [],
   "source": [
    "bands = ['u','g','r','i','z','j','h','k']\n",
    "means = [deep_SOM.get('mean','Mf_%s'%b) for b in bands]\n",
    "stds = [deep_SOM.get('std','Mf_%s'%b) for b in bands]\n",
    "\n",
    "means_mag = [flux_to_mag(m) for m in means]\n",
    "stds_mag = [flux_to_mag(s) for s in stds]"
   ]
  },
  {
   "cell_type": "code",
   "execution_count": null,
   "id": "db50c1ff-ab03-4756-a1fb-b08bac00ce29",
   "metadata": {
    "tags": []
   },
   "outputs": [],
   "source": [
    "fig, ax = plt.subplots(2,len(bands)-1, figsize=(20,10))\n",
    "for i, (b1, b2) in enumerate(zip(bands, bands[1:])):\n",
    "    im1=ax[0,i].imshow(means_mag[i]-means_mag[i+1])\n",
    "    ax[1,i].imshow(stds_mag[i]-stds_mag[i+1])\n",
    "    \n",
    "    divider = make_axes_locatable(ax[0,i])\n",
    "    cax = divider.append_axes('right', size='5%', pad=0.05)\n",
    "    fig.colorbar(im1, cax=cax, orientation='vertical')\n",
    "    \n",
    "    ax[0,i].set_title('%s-%s'%(b1,b2))\n",
    "    \n",
    "plt.show()"
   ]
  },
  {
   "cell_type": "markdown",
   "id": "671c802b-6958-4e7d-b5be-5d6c6b05d0f6",
   "metadata": {
    "tags": []
   },
   "source": [
    "# Tomographic Binning"
   ]
  },
  {
   "cell_type": "code",
   "execution_count": 3,
   "id": "26440417-a266-4eab-9ffd-9c338687afe2",
   "metadata": {
    "tags": []
   },
   "outputs": [],
   "source": [
    "five_percent = load_result('../outputs/basic/nzs/Nz.pkl')"
   ]
  },
  {
   "cell_type": "code",
   "execution_count": null,
   "id": "7bfd655b-c447-43c7-a715-52709064e0ef",
   "metadata": {
    "tags": []
   },
   "outputs": [],
   "source": [
    "compost_std = np.array([D(five_percent.z, five_percent.pzchat[wc]) for wc in five_percent.compost_WCs])\n",
    "bin_stds = [np.array([D(five_percent.z, pzi) for pzi in five_percent.pzchat[WCs]] )\n",
    "                     for WCs in five_percent.binned_WCs]\n",
    "\n",
    "compost_mm = [E(five_percent.z, pzi) for pzi in five_percent.pzchat[five_percent.compost_WCs]]\n",
    "bin_mms = [[E(five_percent.z, pzi) for pzi in five_percent.pzchat[WCs]] for WCs in five_percent.binned_WCs]\n",
    "\n",
    "fig, axs = plt.subplots(2, figsize=(20,10))\n",
    "for a,comp,bins in zip(axs, [compost_std, compost_mm], [bin_stds, bin_mms]):\n",
    "    a.hist(comp, 30, label='compost', histtype='step')\n",
    "    [a.hist(b, 30, label=\"bin %i\"%i, histtype='step') for i,b in enumerate(bins)]\n",
    "\n",
    "axs[0].set_ylabel(\"Bin Standard \\nDeviations\", fontsize=20)\n",
    "axs[1].set_ylabel(\"Bin Expectation \\nValues\", fontsize=20)\n",
    "plt.legend(fontsize=20)\n",
    "plt.show()"
   ]
  },
  {
   "cell_type": "code",
   "execution_count": null,
   "id": "30a817e6-6c1c-40db-87a5-10f55033298d",
   "metadata": {
    "tags": []
   },
   "outputs": [],
   "source": [
    "distributions = five_percent.calculate_Nz()\n",
    "distributions_with_selef = five_percent.calculate_Nz(apply_selection_effects=True)"
   ]
  },
  {
   "cell_type": "code",
   "execution_count": null,
   "id": "76e33089-24f1-4084-8bf5-c4a35c26b7fa",
   "metadata": {
    "tags": []
   },
   "outputs": [],
   "source": [
    "zi = five_percent.z\n",
    "z = np.arange(0,6,0.01)\n",
    "\n",
    "colors = [plt.cm.tab20(i*2) for i in range(5)]\n",
    "fig, ax = plt.subplots(2, figsize=(25,17), height_ratios=[6,1])\n",
    "for i in distributions:\n",
    "    if i == -1: continue\n",
    "    nz_selef = distributions_with_selef[i]\n",
    "    ax[0].fill_between(z,savgol_filter(nz_selef,18,1), alpha=0.3, color=colors[i], label=\"Bin %i with Selection Effects\"%i)\n",
    "    nz = distributions[i] ; av = E(zi,nz) \n",
    "    ax[0].plot(zi, savgol_filter(nz, 18, 1), color=colors[i], label=\"Bin %i (avg = %.02f)\"%(i,av))\n",
    "\n",
    "    #ax[0].axvline(av, color=colors[i], label='bin average = %.02f'%av)\n",
    "\n",
    "\n",
    "nz_selef = distributions_with_selef[0]\n",
    "ax[1].fill_between(z, savgol_filter(nz_selef,18,1), alpha=0.3, color=colors[-1], label=\"Compost with Selection Effects\")\n",
    "nz = distributions[-1]\n",
    "ax[1].plot([0]+zi, [0]+savgol_filter(nz, 18,1), color=colors[-1], label='Compost Bin')\n",
    "av = E(zi,nz) \n",
    "#ax[1].axvline(av, color=colors[-1], label='bin average = %.02f'%av)\n",
    "\n",
    "[a.set_ylim(bottom=0) for a in ax]\n",
    "[a.set_xlim(left=-0.05) for a in ax]\n",
    "\n",
    "ax[0].legend(fontsize=25)\n",
    "ax[1].legend(fontsize=25)\n",
    "ax[0].tick_params(axis='both', which='major', labelsize=25)\n",
    "ax[1].tick_params(axis='both', which='major', labelsize=25)\n",
    "\n",
    "ax[1].set_xlabel('Redshift', fontsize=25)\n"
   ]
  },
  {
   "cell_type": "code",
   "execution_count": 4,
   "id": "49eba09b-49bf-42c1-b7ad-e01cf0ddc0b1",
   "metadata": {},
   "outputs": [
    {
     "name": "stderr",
     "output_type": "stream",
     "text": [
      "100%|██████████| 1000/1000 [04:42<00:00,  3.54it/s]\n"
     ]
    }
   ],
   "source": [
    "assignments, grouped_by_tbin = five_percent.bin_sample(wide_SOM.validate_sample)"
   ]
  },
  {
   "cell_type": "code",
   "execution_count": null,
   "id": "c2fe4f86-412e-40b4-9147-9bb0d08bd6d7",
   "metadata": {},
   "outputs": [],
   "source": []
  }
 ],
 "metadata": {
  "kernelspec": {
   "display_name": "SOMenv",
   "language": "python",
   "name": "somenv"
  },
  "language_info": {
   "codemirror_mode": {
    "name": "ipython",
    "version": 3
   },
   "file_extension": ".py",
   "mimetype": "text/x-python",
   "name": "python",
   "nbconvert_exporter": "python",
   "pygments_lexer": "ipython3",
   "version": "3.11.5"
  }
 },
 "nbformat": 4,
 "nbformat_minor": 5
}
